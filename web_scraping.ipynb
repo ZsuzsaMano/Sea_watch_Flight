{
 "cells": [
  {
   "cell_type": "code",
   "execution_count": 2,
   "metadata": {},
   "outputs": [],
   "source": [
    "import requests"
   ]
  },
  {
   "cell_type": "code",
   "execution_count": 3,
   "metadata": {},
   "outputs": [],
   "source": [
    "years = ['2017', '2018','2019','2020','2021','2022','2023']\n",
    "months = ['01', '02', '03', '04', '05', '06', '07' ,'08', '09', '10','11','12']"
   ]
  },
  {
   "cell_type": "code",
   "execution_count": 4,
   "metadata": {},
   "outputs": [],
   "source": [
    "hex_codes = '''407637\n",
    "4DA058\n",
    "3445D9\n",
    "459901\n",
    "40785B\n",
    "A05FD9\n",
    "343550\n",
    "33FDA8\n",
    "406658\n",
    "3F6001\n",
    "343489\n",
    "33FDA8\n",
    "43EE55\n",
    "3F6008\n",
    "343059\n",
    "44B661\n",
    "43ED4B\n",
    "320012\n",
    "3B7B41\n",
    "44B662\n",
    "4D232D\n",
    "320013\n",
    "4B111C\n",
    "4860B1\n",
    "4D23B3\n",
    "33FDBF\n",
    "4B1BAC\n",
    "\n",
    "\n",
    "4D0291\n",
    "33FE9D\n",
    "3CE139\n",
    "\n",
    "\n",
    "502CCB\n",
    "32003A\n",
    "3CE139\n",
    "\n",
    "\n",
    "4079F3\n",
    "32001A\n",
    "39824D\n",
    "\n",
    "\n",
    "406870\n",
    "33FDD0\n",
    "5110FA\n",
    "\n",
    "\n",
    "497024\n",
    "32000C\n",
    "320017\n",
    "\n",
    "\n",
    "43EED2\n",
    "33FDB3\n",
    "48B15E\n",
    "\n",
    "\n",
    "4D2376\n",
    "33FDDD\n",
    "4D23C8\n",
    "\n",
    "\n",
    "4D2444\n",
    "320017\n",
    "32002E\n",
    "\n",
    "\n",
    "4D206A\n",
    "3462CC\n",
    "320052\n",
    "\n",
    "\n",
    "4D20C3\n",
    "346401\n",
    "32001E\n",
    "\n",
    "\n",
    "4D20DE\n",
    "343619\n",
    "407D59\n",
    "\n",
    "\n",
    "4D2117\n",
    "342555\n",
    "440ABC\n",
    "'''\n",
    "\n",
    "hex_codes_list = hex_codes.replace('\\n', ',')\n"
   ]
  },
  {
   "cell_type": "code",
   "execution_count": 5,
   "metadata": {},
   "outputs": [],
   "source": [
    "hex_codes_list = hex_codes_list.split(',')"
   ]
  },
  {
   "cell_type": "code",
   "execution_count": 6,
   "metadata": {},
   "outputs": [],
   "source": [
    "hex_codes = []\n",
    "for val in hex_codes_list:\n",
    "    if len(val) == 6:\n",
    "        hex_codes.append(val)"
   ]
  },
  {
   "cell_type": "markdown",
   "metadata": {},
   "source": [
    "get the last letters of the hex codes"
   ]
  },
  {
   "cell_type": "code",
   "execution_count": 7,
   "metadata": {},
   "outputs": [],
   "source": [
    "last_letters = []\n",
    "for val in hex_codes:\n",
    "    last_letters.append(val[-2:])\n",
    "last_letters = list(set(last_letters))\n",
    "                "
   ]
  },
  {
   "cell_type": "code",
   "execution_count": 8,
   "metadata": {},
   "outputs": [],
   "source": [
    "dict_url = {}\n",
    "for val in last_letters:\n",
    "    dict_url[val] = []"
   ]
  },
  {
   "cell_type": "code",
   "execution_count": 9,
   "metadata": {},
   "outputs": [
    {
     "name": "stdout",
     "output_type": "stream",
     "text": [
      "{'91': [], '50': [], '12': [], 'C3': [], '1C': [], '6A': [], '4D': [], '1A': [], '17': [], '44': [], 'DE': [], '55': [], '01': [], '24': [], 'D9': [], '52': [], '08': [], 'D2': [], '19': [], '2E': [], 'FA': [], 'BF': [], '3A': [], 'C8': [], '13': [], 'F3': [], 'CC': [], '37': [], '76': [], '39': [], '70': [], '0C': [], 'DD': [], 'BC': [], '4B': [], '2D': [], '41': [], '59': [], '89': [], 'AC': [], '58': [], 'D0': [], '1E': [], 'B1': [], '9D': [], 'A8': [], 'B3': [], '5E': [], '5B': [], '62': [], '61': [], 'CB': []}\n"
     ]
    }
   ],
   "source": [
    "print(dict_url)"
   ]
  },
  {
   "cell_type": "code",
   "execution_count": 10,
   "metadata": {},
   "outputs": [],
   "source": [
    "for hex_code in hex_codes:\n",
    "    for last_letter in last_letters:\n",
    "        if hex_code[-2:] == last_letter:\n",
    "            dict_url[last_letter].append(hex_code)\n"
   ]
  },
  {
   "cell_type": "code",
   "execution_count": 11,
   "metadata": {},
   "outputs": [
    {
     "name": "stdout",
     "output_type": "stream",
     "text": [
      "{'91': ['4D0291'], '50': ['343550'], '12': ['320012'], 'C3': ['4D20C3'], '1C': ['4B111C'], '6A': ['4D206A'], '4D': ['39824D'], '1A': ['32001A'], '17': ['320017', '320017', '4D2117'], '44': ['4D2444'], 'DE': ['4D20DE'], '55': ['43EE55', '342555'], '01': ['459901', '3F6001', '346401'], '24': ['497024'], 'D9': ['3445D9', 'A05FD9'], '52': ['320052'], '08': ['3F6008'], 'D2': ['43EED2'], '19': ['343619'], '2E': ['32002E'], 'FA': ['5110FA'], 'BF': ['33FDBF'], '3A': ['32003A'], 'C8': ['4D23C8'], '13': ['320013'], 'F3': ['4079F3'], 'CC': ['3462CC'], '37': ['407637'], '76': ['4D2376'], '39': ['3CE139', '3CE139'], '70': ['406870'], '0C': ['32000C'], 'DD': ['33FDDD'], 'BC': ['440ABC'], '4B': ['43ED4B'], '2D': ['4D232D'], '41': ['3B7B41'], '59': ['343059', '407D59'], '89': ['343489'], 'AC': ['4B1BAC'], '58': ['4DA058', '406658'], 'D0': ['33FDD0'], '1E': ['32001E'], 'B1': ['4860B1'], '9D': ['33FE9D'], 'A8': ['33FDA8', '33FDA8'], 'B3': ['4D23B3', '33FDB3'], '5E': ['48B15E'], '5B': ['40785B'], '62': ['44B662'], '61': ['44B661'], 'CB': ['502CCB']}\n"
     ]
    }
   ],
   "source": [
    "print(dict_url)"
   ]
  },
  {
   "cell_type": "markdown",
   "metadata": {},
   "source": [
    "This is the format i need:\n",
    "https://samples.adsbexchange.com/traces/2017/01/01/C3/trace_full_4D20C3.json"
   ]
  },
  {
   "cell_type": "code",
   "execution_count": 12,
   "metadata": {},
   "outputs": [],
   "source": [
    "url_list = []\n",
    "for year in years:\n",
    "    for month in months:\n",
    "        for last_letter in last_letters:\n",
    "            for plane in dict_url[last_letter]:\n",
    "\n",
    "                url_string = f'https://samples.adsbexchange.com/traces/{year}/{month}/01/{last_letter}/trace_full_{plane}.json'\n",
    "                url_list.append(url_string)\n"
   ]
  },
  {
   "cell_type": "code",
   "execution_count": 13,
   "metadata": {},
   "outputs": [
    {
     "name": "stdout",
     "output_type": "stream",
     "text": [
      "5292\n"
     ]
    }
   ],
   "source": [
    "print(len(url_list))"
   ]
  },
  {
   "cell_type": "code",
   "execution_count": 14,
   "metadata": {},
   "outputs": [
    {
     "name": "stdout",
     "output_type": "stream",
     "text": [
      "https://samples.adsbexchange.com/traces/2017/01/01/91/trace_full_4D0291.json\n"
     ]
    }
   ],
   "source": [
    "print(url_list[0])"
   ]
  },
  {
   "cell_type": "code",
   "execution_count": 15,
   "metadata": {},
   "outputs": [
    {
     "name": "stdout",
     "output_type": "stream",
     "text": [
      "0\n",
      "getting info from https://samples.adsbexchange.com/traces/2017/01/01/91/trace_full_4D0291.json\n",
      "Error fetching data from https://samples.adsbexchange.com/traces/2017/01/01/91/trace_full_4D0291.json: 404 Client Error: Not Found for url: https://samples.adsbexchange.com/traces/2017/01/01/91/trace_full_4D0291.json\n",
      "1\n",
      "getting info from https://samples.adsbexchange.com/traces/2017/01/01/50/trace_full_343550.json\n",
      "Error fetching data from https://samples.adsbexchange.com/traces/2017/01/01/50/trace_full_343550.json: 404 Client Error: Not Found for url: https://samples.adsbexchange.com/traces/2017/01/01/50/trace_full_343550.json\n",
      "2\n",
      "getting info from https://samples.adsbexchange.com/traces/2017/01/01/12/trace_full_320012.json\n",
      "Error fetching data from https://samples.adsbexchange.com/traces/2017/01/01/12/trace_full_320012.json: 404 Client Error: Not Found for url: https://samples.adsbexchange.com/traces/2017/01/01/12/trace_full_320012.json\n",
      "3\n",
      "getting info from https://samples.adsbexchange.com/traces/2017/01/01/C3/trace_full_4D20C3.json\n",
      "Error fetching data from https://samples.adsbexchange.com/traces/2017/01/01/C3/trace_full_4D20C3.json: 404 Client Error: Not Found for url: https://samples.adsbexchange.com/traces/2017/01/01/C3/trace_full_4D20C3.json\n",
      "4\n",
      "getting info from https://samples.adsbexchange.com/traces/2017/01/01/1C/trace_full_4B111C.json\n",
      "Error fetching data from https://samples.adsbexchange.com/traces/2017/01/01/1C/trace_full_4B111C.json: 404 Client Error: Not Found for url: https://samples.adsbexchange.com/traces/2017/01/01/1C/trace_full_4B111C.json\n",
      "5\n",
      "getting info from https://samples.adsbexchange.com/traces/2017/01/01/6A/trace_full_4D206A.json\n",
      "Error fetching data from https://samples.adsbexchange.com/traces/2017/01/01/6A/trace_full_4D206A.json: 404 Client Error: Not Found for url: https://samples.adsbexchange.com/traces/2017/01/01/6A/trace_full_4D206A.json\n",
      "6\n",
      "getting info from https://samples.adsbexchange.com/traces/2017/01/01/4D/trace_full_39824D.json\n",
      "Error fetching data from https://samples.adsbexchange.com/traces/2017/01/01/4D/trace_full_39824D.json: 404 Client Error: Not Found for url: https://samples.adsbexchange.com/traces/2017/01/01/4D/trace_full_39824D.json\n",
      "7\n",
      "getting info from https://samples.adsbexchange.com/traces/2017/01/01/1A/trace_full_32001A.json\n"
     ]
    }
   ],
   "source": [
    "counter= 0\n",
    "for url in url_list:\n",
    "    try:\n",
    "        print(counter)\n",
    "        print(f'getting info from {url}')\n",
    "        counter += 1\n",
    "        \n",
    "        output_folder = '/Users/barry/CodeAcademy/Sea_watch/sample_traces/'\n",
    "        response = requests.get(url)\n",
    "        response.raise_for_status() \n",
    "        #change the file name to include the day date - it will be always 01 but for the sake of clairy\n",
    "        file_name = f'{url[40:44]}_{url[45:47]}_{url[-11:]}'\n",
    "        json_data = response.json() \n",
    "        \n",
    "        file_name = os.path.join(output_folder, file_name)\n",
    "        with open(file_name, 'w') as json_file:\n",
    "            json.dump(json_data, json_file, indent=2)\n",
    "            print(f\"Data from {url} saved to {file_name}\")\n",
    "\n",
    "    except requests.exceptions.RequestException as e:\n",
    "        print(f\"Error fetching data from {url}: {e}\")\n",
    "\n",
    "    except json.JSONDecodeError as e:\n",
    "        print(f\"Error parsing JSON from {url}: {e}\")\n",
    "\n",
    "\n"
   ]
  }
 ],
 "metadata": {
  "kernelspec": {
   "display_name": "anaconda",
   "language": "python",
   "name": "python3"
  },
  "language_info": {
   "codemirror_mode": {
    "name": "ipython",
    "version": 3
   },
   "file_extension": ".py",
   "mimetype": "text/x-python",
   "name": "python",
   "nbconvert_exporter": "python",
   "pygments_lexer": "ipython3",
   "version": "3.11.0"
  }
 },
 "nbformat": 4,
 "nbformat_minor": 2
}
