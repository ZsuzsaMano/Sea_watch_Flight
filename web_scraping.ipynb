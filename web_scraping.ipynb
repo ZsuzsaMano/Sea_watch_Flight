{
  "cells": [
    {
      "cell_type": "code",
      "execution_count": 15,
      "metadata": {},
      "outputs": [],
      "source": [
        "import requests"
      ]
    },
    {
      "cell_type": "code",
      "execution_count": 16,
      "metadata": {},
      "outputs": [],
      "source": [
        "years = ['2017', '2018','2019','2020','2021','2022','2023']\n",
        "months = ['01', '02', '03', '04', '05', '06', '07' ,'08', '09', '10','11','12']"
      ]
    },
    {
      "cell_type": "code",
      "execution_count": 17,
      "metadata": {},
      "outputs": [],
      "source": [
        "hex_codes = '''407637\n",
        "4DA058\n",
        "3445D9\n",
        "459901\n",
        "40785B\n",
        "A05FD9\n",
        "343550\n",
        "33FDA8\n",
        "406658\n",
        "3F6001\n",
        "343489\n",
        "33FDA8\n",
        "43EE55\n",
        "3F6008\n",
        "343059\n",
        "44B661\n",
        "43ED4B\n",
        "320012\n",
        "3B7B41\n",
        "44B662\n",
        "4D232D\n",
        "320013\n",
        "4B111C\n",
        "4860B1\n",
        "4D23B3\n",
        "33FDBF\n",
        "4B1BAC\n",
        "\n",
        "\n",
        "4D0291\n",
        "33FE9D\n",
        "3CE139\n",
        "\n",
        "\n",
        "502CCB\n",
        "32003A\n",
        "3CE139\n",
        "\n",
        "\n",
        "4079F3\n",
        "32001A\n",
        "39824D\n",
        "\n",
        "\n",
        "406870\n",
        "33FDD0\n",
        "5110FA\n",
        "\n",
        "\n",
        "497024\n",
        "32000C\n",
        "320017\n",
        "\n",
        "\n",
        "43EED2\n",
        "33FDB3\n",
        "48B15E\n",
        "\n",
        "\n",
        "4D2376\n",
        "33FDDD\n",
        "4D23C8\n",
        "\n",
        "\n",
        "4D2444\n",
        "320017\n",
        "32002E\n",
        "\n",
        "\n",
        "4D206A\n",
        "3462CC\n",
        "320052\n",
        "\n",
        "\n",
        "4D20C3\n",
        "346401\n",
        "32001E\n",
        "\n",
        "\n",
        "4D20DE\n",
        "343619\n",
        "407D59\n",
        "\n",
        "\n",
        "4D2117\n",
        "342555\n",
        "440ABC\n",
        "'''\n",
        "\n",
        "hex_codes_list = hex_codes.replace('\\n', ',')\n"
      ]
    },
    {
      "cell_type": "code",
      "execution_count": 18,
      "metadata": {},
      "outputs": [],
      "source": [
        "hex_codes_list = hex_codes_list.split(',')"
      ]
    },
    {
      "cell_type": "code",
      "execution_count": 19,
      "metadata": {},
      "outputs": [],
      "source": [
        "hex_codes = []\n",
        "for val in hex_codes_list:\n",
        "    if len(val) == 6:\n",
        "        hex_codes.append(val)"
      ]
    },
    {
      "cell_type": "markdown",
      "metadata": {},
      "source": [
        "get the last letters of the hex codes"
      ]
    },
    {
      "cell_type": "code",
      "execution_count": 20,
      "metadata": {},
      "outputs": [],
      "source": [
        "last_letters = []\n",
        "for val in hex_codes:\n",
        "    last_letters.append(val[-2:])\n",
        "last_letters = list(set(last_letters))\n",
        "                "
      ]
    },
    {
      "cell_type": "code",
      "execution_count": 21,
      "metadata": {},
      "outputs": [],
      "source": [
        "dict_url = {}\n",
        "for val in last_letters:\n",
        "    dict_url[val] = []"
      ]
    },
    {
      "cell_type": "code",
      "execution_count": 22,
      "metadata": {},
      "outputs": [
        {
          "name": "stdout",
          "output_type": "stream",
          "text": [
            "{'3A': [], '01': [], 'C3': [], '50': [], '62': [], '17': [], '24': [], 'B1': [], 'D0': [], 'CC': [], '19': [], 'DD': [], '55': [], '70': [], '5B': [], '2D': [], '12': [], '1A': [], 'A8': [], '4D': [], 'DE': [], '41': [], '9D': [], 'FA': [], '13': [], '37': [], 'CB': [], 'D2': [], '5E': [], '76': [], '2E': [], 'B3': [], '1C': [], 'BF': [], 'AC': [], '0C': [], '58': [], 'C8': [], '52': [], '44': [], '91': [], '89': [], '61': [], 'BC': [], 'F3': [], '1E': [], '39': [], '08': [], '6A': [], '59': [], '4B': [], 'D9': []}\n"
          ]
        }
      ],
      "source": [
        "print(dict_url)"
      ]
    },
    {
      "cell_type": "code",
      "execution_count": 23,
      "metadata": {},
      "outputs": [],
      "source": [
        "for hex_code in hex_codes:\n",
        "    for last_letter in last_letters:\n",
        "        if hex_code[-2:] == last_letter:\n",
        "            dict_url[last_letter].append(hex_code)\n"
      ]
    },
    {
      "cell_type": "code",
      "execution_count": 24,
      "metadata": {},
      "outputs": [
        {
          "name": "stdout",
          "output_type": "stream",
          "text": [
            "{'3A': ['32003A'], '01': ['459901', '3F6001', '346401'], 'C3': ['4D20C3'], '50': ['343550'], '62': ['44B662'], '17': ['320017', '320017', '4D2117'], '24': ['497024'], 'B1': ['4860B1'], 'D0': ['33FDD0'], 'CC': ['3462CC'], '19': ['343619'], 'DD': ['33FDDD'], '55': ['43EE55', '342555'], '70': ['406870'], '5B': ['40785B'], '2D': ['4D232D'], '12': ['320012'], '1A': ['32001A'], 'A8': ['33FDA8', '33FDA8'], '4D': ['39824D'], 'DE': ['4D20DE'], '41': ['3B7B41'], '9D': ['33FE9D'], 'FA': ['5110FA'], '13': ['320013'], '37': ['407637'], 'CB': ['502CCB'], 'D2': ['43EED2'], '5E': ['48B15E'], '76': ['4D2376'], '2E': ['32002E'], 'B3': ['4D23B3', '33FDB3'], '1C': ['4B111C'], 'BF': ['33FDBF'], 'AC': ['4B1BAC'], '0C': ['32000C'], '58': ['4DA058', '406658'], 'C8': ['4D23C8'], '52': ['320052'], '44': ['4D2444'], '91': ['4D0291'], '89': ['343489'], '61': ['44B661'], 'BC': ['440ABC'], 'F3': ['4079F3'], '1E': ['32001E'], '39': ['3CE139', '3CE139'], '08': ['3F6008'], '6A': ['4D206A'], '59': ['343059', '407D59'], '4B': ['43ED4B'], 'D9': ['3445D9', 'A05FD9']}\n"
          ]
        }
      ],
      "source": [
        "print(dict_url)"
      ]
    },
    {
      "cell_type": "markdown",
      "metadata": {},
      "source": [
        "This is the format i need:\n",
        "https://samples.adsbexchange.com/traces/2017/01/01/C3/trace_full_4D20C3.json"
      ]
    },
    {
      "cell_type": "code",
      "execution_count": 25,
      "metadata": {},
      "outputs": [],
      "source": [
        "url_list = []\n",
        "for year in years:\n",
        "    for month in months:\n",
        "        for last_letter in last_letters:\n",
        "            for plane in dict_url[last_letter]:\n",
        "\n",
        "                url_string = f'https://samples.adsbexchange.com/traces/{year}/{month}/01/{last_letter}/trace_full_{plane}.json'\n",
        "                url_list.append(url_string)\n"
      ]
    },
    {
      "cell_type": "code",
      "execution_count": 26,
      "metadata": {},
      "outputs": [
        {
          "name": "stdout",
          "output_type": "stream",
          "text": [
            "5292\n"
          ]
        }
      ],
      "source": [
        "print(len(url_list))"
      ]
    },
    {
      "cell_type": "code",
      "execution_count": 27,
      "metadata": {},
      "outputs": [
        {
          "name": "stdout",
          "output_type": "stream",
          "text": [
            "https://samples.adsbexchange.com/traces/2017/01/01/3A/trace_full_32003A.json\n"
          ]
        }
      ],
      "source": [
        "print(url_list[0])"
      ]
    },
    {
      "cell_type": "code",
      "execution_count": 1,
      "metadata": {},
      "outputs": [
        {
          "ename": "NameError",
          "evalue": "name 'url_list' is not defined",
          "output_type": "error",
          "traceback": [
            "\u001b[0;31m---------------------------------------------------------------------------\u001b[0m",
            "\u001b[0;31mNameError\u001b[0m                                 Traceback (most recent call last)",
            "\u001b[1;32m/Users/barry/CodeAcademy/Sea_watch2/web_scraping.ipynb Cell 16\u001b[0m line \u001b[0;36m5\n\u001b[1;32m      <a href='vscode-notebook-cell:/Users/barry/CodeAcademy/Sea_watch2/web_scraping.ipynb#X21sZmlsZQ%3D%3D?line=1'>2</a>\u001b[0m \u001b[39mimport\u001b[39;00m \u001b[39mjson\u001b[39;00m\n\u001b[1;32m      <a href='vscode-notebook-cell:/Users/barry/CodeAcademy/Sea_watch2/web_scraping.ipynb#X21sZmlsZQ%3D%3D?line=3'>4</a>\u001b[0m counter\u001b[39m=\u001b[39m \u001b[39m0\u001b[39m\n\u001b[0;32m----> <a href='vscode-notebook-cell:/Users/barry/CodeAcademy/Sea_watch2/web_scraping.ipynb#X21sZmlsZQ%3D%3D?line=4'>5</a>\u001b[0m \u001b[39mfor\u001b[39;00m url \u001b[39min\u001b[39;00m url_list:\n\u001b[1;32m      <a href='vscode-notebook-cell:/Users/barry/CodeAcademy/Sea_watch2/web_scraping.ipynb#X21sZmlsZQ%3D%3D?line=5'>6</a>\u001b[0m     \u001b[39mtry\u001b[39;00m:\n\u001b[1;32m      <a href='vscode-notebook-cell:/Users/barry/CodeAcademy/Sea_watch2/web_scraping.ipynb#X21sZmlsZQ%3D%3D?line=6'>7</a>\u001b[0m         \u001b[39mprint\u001b[39m(counter)\n",
            "\u001b[0;31mNameError\u001b[0m: name 'url_list' is not defined"
          ]
        }
      ],
      "source": [
        "import os\n",
        "import json\n",
        "\n",
        "counter= 0\n",
        "for url in url_list:\n",
        "    try:\n",
        "        print(counter)\n",
        "        print(f'getting info from {url}')\n",
        "        counter += 1\n",
        "        \n",
        "        output_folder = 'sample_traces2/'\n",
        "        response = requests.get(url)\n",
        "        response.raise_for_status() \n",
        "        #change the file name to include the day date - it will be always 01 but for the sake of clairy\n",
        "        file_name = f'{url[40:44]}_{url[45:47]}_{url[-11:]}'\n",
        "        json_data = response.json() \n",
        "        \n",
        "        file_name = os.path.join(output_folder, file_name)\n",
        "        with open(file_name, 'w') as json_file:\n",
        "            json.dump(json_data, json_file, indent=2)\n",
        "            print(f\"Data from {url} saved to {file_name}\")\n",
        "\n",
        "    except requests.exceptions.RequestException as e:\n",
        "        print(f\"Error fetching data from {url}: {e}\")\n",
        "\n",
        "    except json.JSONDecodeError as e:\n",
        "        print(f\"Error parsing JSON from {url}: {e}\")\n",
        "\n",
        "\n"
      ]
    }
  ],
  "metadata": {
    "kernelspec": {
      "display_name": "anaconda",
      "language": "python",
      "name": "python3"
    },
    "language_info": {
      "codemirror_mode": {
        "name": "ipython",
        "version": 3
      },
      "file_extension": ".py",
      "mimetype": "text/x-python",
      "name": "python",
      "nbconvert_exporter": "python",
      "pygments_lexer": "ipython3",
      "version": "3.11.0"
    }
  },
  "nbformat": 4,
  "nbformat_minor": 2
}
