{
 "cells": [
  {
   "cell_type": "code",
   "execution_count": 67,
   "metadata": {},
   "outputs": [],
   "source": [
    "import pandas as pd\n",
    "import cartopy.crs as ccrs\n",
    "import cartopy.feature as cfeature\n",
    "import matplotlib.pyplot as plt\n",
    "import shapely.geometry as sgeom\n",
    "import cartopy.io.img_tiles as cimgt\n",
    "import plotly.express as px\n",
    "import plotly.graph_objects as go\n",
    "\n",
    "\n",
    "\n"
   ]
  },
  {
   "cell_type": "code",
   "execution_count": 68,
   "metadata": {},
   "outputs": [],
   "source": [
    "pd.set_option(\"display.max_rows\", None) \n",
    "pd.set_option(\"display.max_columns\", None)"
   ]
  },
  {
   "cell_type": "code",
   "execution_count": 69,
   "metadata": {},
   "outputs": [],
   "source": [
    "#df = pd.read_json('/Users/barry/CodeAcademy/Sea_watch/sample_traces/2022_09_407637.json')\n",
    "df = pd.read_json('sample_traces/2021_01_346401.json')"
   ]
  },
  {
   "cell_type": "code",
   "execution_count": null,
   "metadata": {},
   "outputs": [],
   "source": [
    "import os\n",
    "import types\n",
    "\n",
    "import cartopy.io.img_tiles as img_tiles\n",
    "import requests\n",
    "import PIL\n",
    "\n",
    "class CachedTiler(object):\n",
    "    def __init__(self, tiler):\n",
    "        self.tiler = tiler\n",
    "\n",
    "    def __getattr__(self, name):\n",
    "        attr = getattr(self.tiler, name, None)\n",
    "        if isinstance(attr, types.MethodType):\n",
    "            attr = types.MethodType(attr.__func__, self)\n",
    "        return attr\n",
    "\n",
    "    def get_image(self, tile):\n",
    "        tileset_name = '{}'.format(self.tiler.__class__.__name__.lower())\n",
    "        cache_dir = os.path.expanduser(os.path.join('~/', 'image_tiles', tileset_name))\n",
    "        if not os.path.exists(cache_dir):\n",
    "            os.makedirs(cache_dir)\n",
    "        tile_fname = os.path.join(cache_dir, '_'.join(str(v) for v in tile) + '.png')\n",
    "        if not os.path.exists(tile_fname):\n",
    "            response = requests.get(self._image_url(tile),\n",
    "                                    stream=True)\n",
    "\n",
    "            with open(tile_fname, \"wb\") as fh:\n",
    "                for chunk in response:\n",
    "                    fh.write(chunk)\n",
    "        with open(tile_fname, 'rb') as fh:\n",
    "            img = PIL.Image.open(fh)\n",
    "            img = img.convert(self.desired_tile_form)     \n",
    "        return img, self.tileextent(tile), 'lower'\n"
   ]
  },
  {
   "cell_type": "code",
   "execution_count": null,
   "metadata": {},
   "outputs": [],
   "source": [
    "def route_maker(df):\n",
    "\n",
    "    if 'icao' in df.columns:\n",
    "        icao = df.icao.unique()[0]\n",
    "    elif 'hex' in df.columns:\n",
    "        icao = df.hex.unique()[0]\n",
    "    time_stamp = df.timestamp.unique()[0]\n",
    "    timeline = []\n",
    "    latitude = []\n",
    "    longitude = []\n",
    "    altitude = []\n",
    "\n",
    "    for val in df.trace:\n",
    "        timeline.append(val[0])\n",
    "        latitude.append(val[1])\n",
    "        longitude.append(val[2])\n",
    "        altitude.append(val[3])\n",
    "   \n",
    "    print(f'plane: {icao}\\ntake_off: {time_stamp}')\n",
    "    flight_info = zip(timeline, latitude, longitude, altitude)\n",
    "\n",
    "    # Initialize our Google Maps tiles\n",
    "    actual_tiler = cimgt.GoogleTiles()\n",
    "    imagery = CachedTiler(actual_tiler)\n",
    "\n",
    "\n",
    "    fig = plt.figure(figsize=(10,10), facecolor='white')\n",
    "    ax = fig.add_subplot(projection=ccrs.LambertConformal())\n",
    "    plt.title(f'{icao} departing: {time_stamp}')\n",
    "\n",
    "    # Set the boundaries around the map\n",
    "    ax.set_extent([ \n",
    "        max(longitude) +2, min(longitude) - 2,\n",
    "        min(latitude) -2 , max(latitude) +2\n",
    "    ], crs=ccrs.Geodetic())\n",
    "\n",
    "    # Draw the background\n",
    "    ax.add_image(imagery, 9)\n",
    "\n",
    "    # Draw the path of the fligt\n",
    "    track = sgeom.LineString(zip(longitude,latitude))\n",
    "    ax.add_geometries([track],\n",
    "                      ccrs.PlateCarree(),\n",
    "                      facecolor='none',\n",
    "                      edgecolor='red',\n",
    "                      linewidth=2)    \n",
    "    print(len(latitude))\n",
    "    print(len(longitude))\n",
    "    print(len(altitude))\n",
    "route_maker(df)\n",
    "\n"
   ]
  },
  {
   "cell_type": "markdown",
   "metadata": {},
   "source": [
    "route_maker3 takes a df and hten creates an interative plotly map showing altitude as well as location"
   ]
  },
  {
   "cell_type": "code",
   "execution_count": 70,
   "metadata": {},
   "outputs": [
    {
     "name": "stdout",
     "output_type": "stream",
     "text": [
      "<class 'pandas._libs.tslibs.timestamps.Timestamp'>\n",
      "plane: 346401\n",
      "take_off: 2021-01-01 23:49:40.979000064\n"
     ]
    },
    {
     "data": {
      "application/vnd.plotly.v1+json": {
       "config": {
        "plotlyServerURL": "https://plot.ly"
       },
       "data": [
        {
         "customdata": [
          [
           0,
           -6.06544,
           36.744312,
           "2021-01-01T23:49:40.979000064"
          ],
          [
           1,
           -6.064525,
           36.744267,
           "2021-01-01T23:49:40.979000079"
          ],
          [
           2,
           -6.063913,
           36.744228,
           "2021-01-01T23:49:40.979000088"
          ],
          [
           3,
           -6.062136,
           36.743923,
           "2021-01-01T23:49:40.979000117"
          ],
          [
           4,
           -6.062064,
           36.743900000000004,
           "2021-01-01T23:49:40.979000118"
          ],
          [
           5,
           -6.061882,
           36.740842,
           "2021-01-01T23:49:40.979000175"
          ],
          [
           6,
           -6.062336,
           36.739746,
           "2021-01-01T23:49:40.979000180"
          ],
          [
           7,
           -6.062908,
           36.738373,
           "2021-01-01T23:49:40.979000185"
          ],
          [
           8,
           -6.063309,
           36.737366,
           "2021-01-01T23:49:40.979000189"
          ],
          [
           9,
           -6.064453,
           36.734697,
           "2021-01-01T23:49:40.979000198"
          ],
          [
           10,
           -6.064796,
           36.734024,
           "2021-01-01T23:49:40.979000200"
          ],
          [
           11,
           -6.065998,
           36.731277,
           "2021-01-01T23:49:40.979000208"
          ],
          [
           12,
           -6.068018,
           36.726783,
           "2021-01-01T23:49:40.979000220"
          ],
          [
           13,
           -6.068344,
           36.725784,
           "2021-01-01T23:49:40.979000222"
          ],
          [
           14,
           -6.069489,
           36.722946,
           "2021-01-01T23:49:40.979000230"
          ],
          [
           15,
           -6.070706,
           36.720545,
           "2021-01-01T23:49:40.979000236"
          ],
          [
           16,
           -6.072292,
           36.71759,
           "2021-01-01T23:49:40.979000242"
          ],
          [
           17,
           -6.074066,
           36.714432,
           "2021-01-01T23:49:40.979000249"
          ],
          [
           18,
           -6.074797,
           36.71319,
           "2021-01-01T23:49:40.979000252"
          ],
          [
           19,
           -6.076698,
           36.709808,
           "2021-01-01T23:49:40.979000259"
          ],
          [
           20,
           -6.079216,
           36.70546,
           "2021-01-01T23:49:40.979000266"
          ],
          [
           21,
           -6.08408,
           36.696899,
           "2021-01-01T23:49:40.979000281"
          ],
          [
           22,
           -6.088705,
           36.688982,
           "2021-01-01T23:49:40.979000295"
          ],
          [
           23,
           -6.09338,
           36.680975,
           "2021-01-01T23:49:40.979000308"
          ],
          [
           24,
           -6.096611,
           36.675156,
           "2021-01-01T23:49:40.979000318"
          ],
          [
           25,
           -6.099873,
           36.668747,
           "2021-01-01T23:49:40.979000329"
          ],
          [
           26,
           -6.103373,
           36.661098,
           "2021-01-01T23:49:40.979000342"
          ],
          [
           27,
           -6.105881,
           36.654831,
           "2021-01-01T23:49:40.979000352"
          ],
          [
           28,
           -6.108227,
           36.648285,
           "2021-01-01T23:49:40.979000362"
          ],
          [
           29,
           -6.114242,
           36.629256,
           "2021-01-01T23:49:40.979000392"
          ],
          [
           30,
           -6.116989,
           36.620877,
           "2021-01-01T23:49:40.979000406"
          ],
          [
           31,
           -6.122761,
           36.604889,
           "2021-01-01T23:49:40.979000431"
          ],
          [
           32,
           -6.130028,
           36.585892,
           "2021-01-01T23:49:40.979000461"
          ],
          [
           33,
           -6.133175,
           36.578156,
           "2021-01-01T23:49:40.979000474"
          ],
          [
           34,
           -6.13575,
           36.572342,
           "2021-01-01T23:49:40.979000483"
          ],
          [
           35,
           -6.138496,
           36.567123,
           "2021-01-01T23:49:40.979000492"
          ],
          [
           36,
           -6.148312,
           36.549279,
           "2021-01-01T23:49:40.979000522"
          ],
          [
           37,
           -6.158188,
           36.53117,
           "2021-01-01T23:49:40.979000553"
          ],
          [
           38,
           -6.16783,
           36.513015,
           "2021-01-01T23:49:40.979000583"
          ],
          [
           39,
           -6.172771,
           36.503586,
           "2021-01-01T23:49:40.979000599"
          ],
          [
           40,
           -6.176888,
           36.494999,
           "2021-01-01T23:49:40.979000613"
          ],
          [
           41,
           -6.180611,
           36.486237,
           "2021-01-01T23:49:40.979000627"
          ],
          [
           42,
           -6.186881,
           36.470606,
           "2021-01-01T23:49:40.979000652"
          ]
         ],
         "hovertemplate": "Latitude=%{customdata[2]}<br>Longitude=%{customdata[1]}<br>index=%{customdata[0]}<br>Time=%{customdata[3]}<br>Altitude=%{marker.color}<extra></extra>",
         "lat": [
          36.744312,
          36.744267,
          36.744228,
          36.743923,
          36.743900000000004,
          36.740842,
          36.739746,
          36.738373,
          36.737366,
          36.734697,
          36.734024,
          36.731277,
          36.726783,
          36.725784,
          36.722946,
          36.720545,
          36.71759,
          36.714432,
          36.71319,
          36.709808,
          36.70546,
          36.696899,
          36.688982,
          36.680975,
          36.675156,
          36.668747,
          36.661098,
          36.654831,
          36.648285,
          36.629256,
          36.620877,
          36.604889,
          36.585892,
          36.578156,
          36.572342,
          36.567123,
          36.549279,
          36.53117,
          36.513015,
          36.503586,
          36.494999,
          36.486237,
          36.470606
         ],
         "legendgroup": "",
         "line": {
          "color": "blue",
          "width": 2
         },
         "lon": [
          -6.06544,
          -6.064525,
          -6.063913,
          -6.062136,
          -6.062064,
          -6.061882,
          -6.062336,
          -6.062908,
          -6.063309,
          -6.064453,
          -6.064796,
          -6.065998,
          -6.068018,
          -6.068344,
          -6.069489,
          -6.070706,
          -6.072292,
          -6.074066,
          -6.074797,
          -6.076698,
          -6.079216,
          -6.08408,
          -6.088705,
          -6.09338,
          -6.096611,
          -6.099873,
          -6.103373,
          -6.105881,
          -6.108227,
          -6.114242,
          -6.116989,
          -6.122761,
          -6.130028,
          -6.133175,
          -6.13575,
          -6.138496,
          -6.148312,
          -6.158188,
          -6.16783,
          -6.172771,
          -6.176888,
          -6.180611,
          -6.186881
         ],
         "marker": {
          "color": [
           0,
           0,
           0,
           0,
           0,
           25,
           75,
           150,
           200,
           300,
           325,
           450,
           550,
           575,
           625,
           700,
           750,
           800,
           825,
           875,
           950,
           1075,
           1200,
           1325,
           1400,
           1425,
           1425,
           1425,
           1425,
           1425,
           1425,
           1425,
           1425,
           1425,
           1425,
           1425,
           1425,
           1425,
           1425,
           1425,
           1425,
           1425,
           1425
          ],
          "coloraxis": "coloraxis"
         },
         "mode": "markers+lines",
         "name": "",
         "showlegend": false,
         "subplot": "mapbox",
         "type": "scattermapbox"
        }
       ],
       "layout": {
        "coloraxis": {
         "colorbar": {
          "title": {
           "text": "Altitude"
          }
         },
         "colorscale": [
          [
           0,
           "#0d0887"
          ],
          [
           0.1111111111111111,
           "#46039f"
          ],
          [
           0.2222222222222222,
           "#7201a8"
          ],
          [
           0.3333333333333333,
           "#9c179e"
          ],
          [
           0.4444444444444444,
           "#bd3786"
          ],
          [
           0.5555555555555556,
           "#d8576b"
          ],
          [
           0.6666666666666666,
           "#ed7953"
          ],
          [
           0.7777777777777778,
           "#fb9f3a"
          ],
          [
           0.8888888888888888,
           "#fdca26"
          ],
          [
           1,
           "#f0f921"
          ]
         ]
        },
        "height": 800,
        "legend": {
         "tracegroupgap": 0
        },
        "mapbox": {
         "center": {
          "lat": 36.66083472093024,
          "lon": -6.099545069767442
         },
         "domain": {
          "x": [
           0,
           1
          ],
          "y": [
           0,
           1
          ]
         },
         "style": "open-street-map",
         "zoom": 8
        },
        "template": {
         "data": {
          "bar": [
           {
            "error_x": {
             "color": "#2a3f5f"
            },
            "error_y": {
             "color": "#2a3f5f"
            },
            "marker": {
             "line": {
              "color": "#E5ECF6",
              "width": 0.5
             },
             "pattern": {
              "fillmode": "overlay",
              "size": 10,
              "solidity": 0.2
             }
            },
            "type": "bar"
           }
          ],
          "barpolar": [
           {
            "marker": {
             "line": {
              "color": "#E5ECF6",
              "width": 0.5
             },
             "pattern": {
              "fillmode": "overlay",
              "size": 10,
              "solidity": 0.2
             }
            },
            "type": "barpolar"
           }
          ],
          "carpet": [
           {
            "aaxis": {
             "endlinecolor": "#2a3f5f",
             "gridcolor": "white",
             "linecolor": "white",
             "minorgridcolor": "white",
             "startlinecolor": "#2a3f5f"
            },
            "baxis": {
             "endlinecolor": "#2a3f5f",
             "gridcolor": "white",
             "linecolor": "white",
             "minorgridcolor": "white",
             "startlinecolor": "#2a3f5f"
            },
            "type": "carpet"
           }
          ],
          "choropleth": [
           {
            "colorbar": {
             "outlinewidth": 0,
             "ticks": ""
            },
            "type": "choropleth"
           }
          ],
          "contour": [
           {
            "colorbar": {
             "outlinewidth": 0,
             "ticks": ""
            },
            "colorscale": [
             [
              0,
              "#0d0887"
             ],
             [
              0.1111111111111111,
              "#46039f"
             ],
             [
              0.2222222222222222,
              "#7201a8"
             ],
             [
              0.3333333333333333,
              "#9c179e"
             ],
             [
              0.4444444444444444,
              "#bd3786"
             ],
             [
              0.5555555555555556,
              "#d8576b"
             ],
             [
              0.6666666666666666,
              "#ed7953"
             ],
             [
              0.7777777777777778,
              "#fb9f3a"
             ],
             [
              0.8888888888888888,
              "#fdca26"
             ],
             [
              1,
              "#f0f921"
             ]
            ],
            "type": "contour"
           }
          ],
          "contourcarpet": [
           {
            "colorbar": {
             "outlinewidth": 0,
             "ticks": ""
            },
            "type": "contourcarpet"
           }
          ],
          "heatmap": [
           {
            "colorbar": {
             "outlinewidth": 0,
             "ticks": ""
            },
            "colorscale": [
             [
              0,
              "#0d0887"
             ],
             [
              0.1111111111111111,
              "#46039f"
             ],
             [
              0.2222222222222222,
              "#7201a8"
             ],
             [
              0.3333333333333333,
              "#9c179e"
             ],
             [
              0.4444444444444444,
              "#bd3786"
             ],
             [
              0.5555555555555556,
              "#d8576b"
             ],
             [
              0.6666666666666666,
              "#ed7953"
             ],
             [
              0.7777777777777778,
              "#fb9f3a"
             ],
             [
              0.8888888888888888,
              "#fdca26"
             ],
             [
              1,
              "#f0f921"
             ]
            ],
            "type": "heatmap"
           }
          ],
          "heatmapgl": [
           {
            "colorbar": {
             "outlinewidth": 0,
             "ticks": ""
            },
            "colorscale": [
             [
              0,
              "#0d0887"
             ],
             [
              0.1111111111111111,
              "#46039f"
             ],
             [
              0.2222222222222222,
              "#7201a8"
             ],
             [
              0.3333333333333333,
              "#9c179e"
             ],
             [
              0.4444444444444444,
              "#bd3786"
             ],
             [
              0.5555555555555556,
              "#d8576b"
             ],
             [
              0.6666666666666666,
              "#ed7953"
             ],
             [
              0.7777777777777778,
              "#fb9f3a"
             ],
             [
              0.8888888888888888,
              "#fdca26"
             ],
             [
              1,
              "#f0f921"
             ]
            ],
            "type": "heatmapgl"
           }
          ],
          "histogram": [
           {
            "marker": {
             "pattern": {
              "fillmode": "overlay",
              "size": 10,
              "solidity": 0.2
             }
            },
            "type": "histogram"
           }
          ],
          "histogram2d": [
           {
            "colorbar": {
             "outlinewidth": 0,
             "ticks": ""
            },
            "colorscale": [
             [
              0,
              "#0d0887"
             ],
             [
              0.1111111111111111,
              "#46039f"
             ],
             [
              0.2222222222222222,
              "#7201a8"
             ],
             [
              0.3333333333333333,
              "#9c179e"
             ],
             [
              0.4444444444444444,
              "#bd3786"
             ],
             [
              0.5555555555555556,
              "#d8576b"
             ],
             [
              0.6666666666666666,
              "#ed7953"
             ],
             [
              0.7777777777777778,
              "#fb9f3a"
             ],
             [
              0.8888888888888888,
              "#fdca26"
             ],
             [
              1,
              "#f0f921"
             ]
            ],
            "type": "histogram2d"
           }
          ],
          "histogram2dcontour": [
           {
            "colorbar": {
             "outlinewidth": 0,
             "ticks": ""
            },
            "colorscale": [
             [
              0,
              "#0d0887"
             ],
             [
              0.1111111111111111,
              "#46039f"
             ],
             [
              0.2222222222222222,
              "#7201a8"
             ],
             [
              0.3333333333333333,
              "#9c179e"
             ],
             [
              0.4444444444444444,
              "#bd3786"
             ],
             [
              0.5555555555555556,
              "#d8576b"
             ],
             [
              0.6666666666666666,
              "#ed7953"
             ],
             [
              0.7777777777777778,
              "#fb9f3a"
             ],
             [
              0.8888888888888888,
              "#fdca26"
             ],
             [
              1,
              "#f0f921"
             ]
            ],
            "type": "histogram2dcontour"
           }
          ],
          "mesh3d": [
           {
            "colorbar": {
             "outlinewidth": 0,
             "ticks": ""
            },
            "type": "mesh3d"
           }
          ],
          "parcoords": [
           {
            "line": {
             "colorbar": {
              "outlinewidth": 0,
              "ticks": ""
             }
            },
            "type": "parcoords"
           }
          ],
          "pie": [
           {
            "automargin": true,
            "type": "pie"
           }
          ],
          "scatter": [
           {
            "fillpattern": {
             "fillmode": "overlay",
             "size": 10,
             "solidity": 0.2
            },
            "type": "scatter"
           }
          ],
          "scatter3d": [
           {
            "line": {
             "colorbar": {
              "outlinewidth": 0,
              "ticks": ""
             }
            },
            "marker": {
             "colorbar": {
              "outlinewidth": 0,
              "ticks": ""
             }
            },
            "type": "scatter3d"
           }
          ],
          "scattercarpet": [
           {
            "marker": {
             "colorbar": {
              "outlinewidth": 0,
              "ticks": ""
             }
            },
            "type": "scattercarpet"
           }
          ],
          "scattergeo": [
           {
            "marker": {
             "colorbar": {
              "outlinewidth": 0,
              "ticks": ""
             }
            },
            "type": "scattergeo"
           }
          ],
          "scattergl": [
           {
            "marker": {
             "colorbar": {
              "outlinewidth": 0,
              "ticks": ""
             }
            },
            "type": "scattergl"
           }
          ],
          "scattermapbox": [
           {
            "marker": {
             "colorbar": {
              "outlinewidth": 0,
              "ticks": ""
             }
            },
            "type": "scattermapbox"
           }
          ],
          "scatterpolar": [
           {
            "marker": {
             "colorbar": {
              "outlinewidth": 0,
              "ticks": ""
             }
            },
            "type": "scatterpolar"
           }
          ],
          "scatterpolargl": [
           {
            "marker": {
             "colorbar": {
              "outlinewidth": 0,
              "ticks": ""
             }
            },
            "type": "scatterpolargl"
           }
          ],
          "scatterternary": [
           {
            "marker": {
             "colorbar": {
              "outlinewidth": 0,
              "ticks": ""
             }
            },
            "type": "scatterternary"
           }
          ],
          "surface": [
           {
            "colorbar": {
             "outlinewidth": 0,
             "ticks": ""
            },
            "colorscale": [
             [
              0,
              "#0d0887"
             ],
             [
              0.1111111111111111,
              "#46039f"
             ],
             [
              0.2222222222222222,
              "#7201a8"
             ],
             [
              0.3333333333333333,
              "#9c179e"
             ],
             [
              0.4444444444444444,
              "#bd3786"
             ],
             [
              0.5555555555555556,
              "#d8576b"
             ],
             [
              0.6666666666666666,
              "#ed7953"
             ],
             [
              0.7777777777777778,
              "#fb9f3a"
             ],
             [
              0.8888888888888888,
              "#fdca26"
             ],
             [
              1,
              "#f0f921"
             ]
            ],
            "type": "surface"
           }
          ],
          "table": [
           {
            "cells": {
             "fill": {
              "color": "#EBF0F8"
             },
             "line": {
              "color": "white"
             }
            },
            "header": {
             "fill": {
              "color": "#C8D4E3"
             },
             "line": {
              "color": "white"
             }
            },
            "type": "table"
           }
          ]
         },
         "layout": {
          "annotationdefaults": {
           "arrowcolor": "#2a3f5f",
           "arrowhead": 0,
           "arrowwidth": 1
          },
          "autotypenumbers": "strict",
          "coloraxis": {
           "colorbar": {
            "outlinewidth": 0,
            "ticks": ""
           }
          },
          "colorscale": {
           "diverging": [
            [
             0,
             "#8e0152"
            ],
            [
             0.1,
             "#c51b7d"
            ],
            [
             0.2,
             "#de77ae"
            ],
            [
             0.3,
             "#f1b6da"
            ],
            [
             0.4,
             "#fde0ef"
            ],
            [
             0.5,
             "#f7f7f7"
            ],
            [
             0.6,
             "#e6f5d0"
            ],
            [
             0.7,
             "#b8e186"
            ],
            [
             0.8,
             "#7fbc41"
            ],
            [
             0.9,
             "#4d9221"
            ],
            [
             1,
             "#276419"
            ]
           ],
           "sequential": [
            [
             0,
             "#0d0887"
            ],
            [
             0.1111111111111111,
             "#46039f"
            ],
            [
             0.2222222222222222,
             "#7201a8"
            ],
            [
             0.3333333333333333,
             "#9c179e"
            ],
            [
             0.4444444444444444,
             "#bd3786"
            ],
            [
             0.5555555555555556,
             "#d8576b"
            ],
            [
             0.6666666666666666,
             "#ed7953"
            ],
            [
             0.7777777777777778,
             "#fb9f3a"
            ],
            [
             0.8888888888888888,
             "#fdca26"
            ],
            [
             1,
             "#f0f921"
            ]
           ],
           "sequentialminus": [
            [
             0,
             "#0d0887"
            ],
            [
             0.1111111111111111,
             "#46039f"
            ],
            [
             0.2222222222222222,
             "#7201a8"
            ],
            [
             0.3333333333333333,
             "#9c179e"
            ],
            [
             0.4444444444444444,
             "#bd3786"
            ],
            [
             0.5555555555555556,
             "#d8576b"
            ],
            [
             0.6666666666666666,
             "#ed7953"
            ],
            [
             0.7777777777777778,
             "#fb9f3a"
            ],
            [
             0.8888888888888888,
             "#fdca26"
            ],
            [
             1,
             "#f0f921"
            ]
           ]
          },
          "colorway": [
           "#636efa",
           "#EF553B",
           "#00cc96",
           "#ab63fa",
           "#FFA15A",
           "#19d3f3",
           "#FF6692",
           "#B6E880",
           "#FF97FF",
           "#FECB52"
          ],
          "font": {
           "color": "#2a3f5f"
          },
          "geo": {
           "bgcolor": "white",
           "lakecolor": "white",
           "landcolor": "#E5ECF6",
           "showlakes": true,
           "showland": true,
           "subunitcolor": "white"
          },
          "hoverlabel": {
           "align": "left"
          },
          "hovermode": "closest",
          "mapbox": {
           "style": "light"
          },
          "paper_bgcolor": "white",
          "plot_bgcolor": "#E5ECF6",
          "polar": {
           "angularaxis": {
            "gridcolor": "white",
            "linecolor": "white",
            "ticks": ""
           },
           "bgcolor": "#E5ECF6",
           "radialaxis": {
            "gridcolor": "white",
            "linecolor": "white",
            "ticks": ""
           }
          },
          "scene": {
           "xaxis": {
            "backgroundcolor": "#E5ECF6",
            "gridcolor": "white",
            "gridwidth": 2,
            "linecolor": "white",
            "showbackground": true,
            "ticks": "",
            "zerolinecolor": "white"
           },
           "yaxis": {
            "backgroundcolor": "#E5ECF6",
            "gridcolor": "white",
            "gridwidth": 2,
            "linecolor": "white",
            "showbackground": true,
            "ticks": "",
            "zerolinecolor": "white"
           },
           "zaxis": {
            "backgroundcolor": "#E5ECF6",
            "gridcolor": "white",
            "gridwidth": 2,
            "linecolor": "white",
            "showbackground": true,
            "ticks": "",
            "zerolinecolor": "white"
           }
          },
          "shapedefaults": {
           "line": {
            "color": "#2a3f5f"
           }
          },
          "ternary": {
           "aaxis": {
            "gridcolor": "white",
            "linecolor": "white",
            "ticks": ""
           },
           "baxis": {
            "gridcolor": "white",
            "linecolor": "white",
            "ticks": ""
           },
           "bgcolor": "#E5ECF6",
           "caxis": {
            "gridcolor": "white",
            "linecolor": "white",
            "ticks": ""
           }
          },
          "title": {
           "x": 0.05
          },
          "xaxis": {
           "automargin": true,
           "gridcolor": "white",
           "linecolor": "white",
           "ticks": "",
           "title": {
            "standoff": 15
           },
           "zerolinecolor": "white",
           "zerolinewidth": 2
          },
          "yaxis": {
           "automargin": true,
           "gridcolor": "white",
           "linecolor": "white",
           "ticks": "",
           "title": {
            "standoff": 15
           },
           "zerolinecolor": "white",
           "zerolinewidth": 2
          }
         }
        },
        "title": {
         "text": "Flight 346401 take-off: 2021-01-01 23:49:40.979000064"
        },
        "width": 1200
       }
      }
     },
     "metadata": {},
     "output_type": "display_data"
    }
   ],
   "source": [
    "def route_maker3(json_name):\n",
    "    df = pd.read_json(f'sample_traces/{json_name}.json')\n",
    "    if 'icao' in df.columns:\n",
    "        icao = df.icao.unique()[0]\n",
    "    elif 'hex' in df.columns:\n",
    "        icao = df.hex.unique()[0]\n",
    "    time_stamp = df.timestamp.unique()[0]\n",
    "    print(type(time_stamp))\n",
    "    timeline = []\n",
    "    latitude = []\n",
    "    longitude = []\n",
    "    altitude = []\n",
    "\n",
    "    for val in df.trace:\n",
    "        timeline.append(val[0])\n",
    "        latitude.append(val[1])\n",
    "        longitude.append(val[2])\n",
    "        altitude.append(val[3])\n",
    "    print(f'plane: {icao}\\ntake_off: {time_stamp}')\n",
    "    #flight_info = zip(timeline, latitude, longitude, altitude)\n",
    "\n",
    "    df2 = pd.DataFrame({\n",
    "    'Latitude': latitude,\n",
    "    'Longitude': longitude,\n",
    "    'Altitude': altitude,\n",
    "    'Time': timeline\n",
    "    })\n",
    "    df2['index'] = df2.index\n",
    "    #I need the altitude to be an integer no Nulls or strings permitted\n",
    "    df2.loc[df2.Altitude == 'ground', 'Altitude'] = 0\n",
    "    df2.Altitude = df2.Altitude.fillna(0)\n",
    "    df2['Altitude'] = df2['Altitude'].astype('int')\n",
    "    \n",
    "    df2.Time = pd.to_timedelta(df2.Time) \n",
    "    df2.Time = df2.Time + time_stamp\n",
    "\n",
    "\n",
    "    # Plot flight path with altitude on a Mapbox map\n",
    "    fig = px.scatter_mapbox(df2, \n",
    "                            lon='Longitude', \n",
    "                            lat='Latitude', \n",
    "                            color='Altitude', \n",
    "                            hover_data=['index', 'Longitude', 'Latitude','Time'], \n",
    "                         title=f'Flight {icao} take-off: {time_stamp}')\n",
    "    fig.update_layout(mapbox_style=\"open-street-map\")\n",
    "    fig.update_traces(mode='markers+lines', line=dict(color='blue', width=2))\n",
    "    fig.update_layout(height=800, width=1200) \n",
    "\n",
    "    fig.show()\n",
    "\n",
    "route_maker3('2021_01_346401')"
   ]
  }
 ],
 "metadata": {
  "kernelspec": {
   "display_name": "anaconda",
   "language": "python",
   "name": "python3"
  },
  "language_info": {
   "codemirror_mode": {
    "name": "ipython",
    "version": 3
   },
   "file_extension": ".py",
   "mimetype": "text/x-python",
   "name": "python",
   "nbconvert_exporter": "python",
   "pygments_lexer": "ipython3",
   "version": "3.11.0"
  }
 },
 "nbformat": 4,
 "nbformat_minor": 2
}
